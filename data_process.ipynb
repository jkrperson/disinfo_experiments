{
 "cells": [
  {
   "cell_type": "code",
   "execution_count": 1,
   "metadata": {},
   "outputs": [],
   "source": [
    "import pandas as pd"
   ]
  },
  {
   "cell_type": "code",
   "execution_count": 2,
   "metadata": {},
   "outputs": [],
   "source": [
    "data_part1 = pd.read_csv(\"vfiles_1.csv\")"
   ]
  },
  {
   "cell_type": "code",
   "execution_count": 3,
   "metadata": {},
   "outputs": [],
   "source": [
    "data_part2 = pd.read_csv(\"vfiles_2.csv\")"
   ]
  },
  {
   "cell_type": "code",
   "execution_count": 4,
   "metadata": {},
   "outputs": [],
   "source": [
    "result = pd.concat([data_part1, data_part2], ignore_index=True)"
   ]
  },
  {
   "cell_type": "code",
   "execution_count": 5,
   "metadata": {},
   "outputs": [
    {
     "data": {
      "text/plain": [
       "Index(['Post Title', 'Time Posted', 'Post Link', 'Image URL', 'Description',\n",
       "       'Classification', 'Quotes 1', 'Quotes 2', 'Quotes 3', 'Quotes 4',\n",
       "       'Quotes 5', 'Quotes 6', 'Quotes 7', 'Quotes 8', 'Quotes 9', 'Quotes 10',\n",
       "       'Quotes 11', 'Quotes 12', 'Quotes 13'],\n",
       "      dtype='object')"
      ]
     },
     "execution_count": 5,
     "metadata": {},
     "output_type": "execute_result"
    }
   ],
   "source": [
    "result.columns"
   ]
  },
  {
   "cell_type": "code",
   "execution_count": 6,
   "metadata": {},
   "outputs": [],
   "source": [
    "dataset = result.drop(result.columns[7:], axis=1).dropna()[[\"Quotes 1\", \"Classification\"]]"
   ]
  },
  {
   "cell_type": "code",
   "execution_count": 7,
   "metadata": {},
   "outputs": [],
   "source": [
    "dataset.columns = [\"text\", \"label\"]"
   ]
  },
  {
   "cell_type": "code",
   "execution_count": 8,
   "metadata": {},
   "outputs": [
    {
     "data": {
      "text/plain": [
       "array(['FAKE', 'INACCURATE', 'MISLEADING', 'FALSE', 'NEEDS CONTEXT',\n",
       "       'NO BASIS', 'SATIRE'], dtype=object)"
      ]
     },
     "execution_count": 8,
     "metadata": {},
     "output_type": "execute_result"
    }
   ],
   "source": [
    "dataset[\"label\"].unique()"
   ]
  },
  {
   "cell_type": "code",
   "execution_count": 9,
   "metadata": {},
   "outputs": [
    {
     "data": {
      "text/plain": [
       "'“Nakakagulat…Biglaang pagkakasubpoena sa pangulo matapos niyang makabalik sa Palasyo ikinagulat…Plano siyang ikulong ng Senado!”\\xa0(Shocking…sudden subpoena received by the president after returning to the Palace shocking…the Senate plans to imprison him!)\\xa0'"
      ]
     },
     "execution_count": 9,
     "metadata": {},
     "output_type": "execute_result"
    }
   ],
   "source": [
    "dataset[dataset[\"label\"] == \"MISLEADING\"][\"text\"].iloc[30]"
   ]
  },
  {
   "cell_type": "code",
   "execution_count": 10,
   "metadata": {},
   "outputs": [],
   "source": [
    "dataset.to_csv(\"vefafiles.csv\",index=False)"
   ]
  },
  {
   "cell_type": "code",
   "execution_count": 11,
   "metadata": {},
   "outputs": [
    {
     "data": {
      "text/plain": [
       "34.45977011494253"
      ]
     },
     "execution_count": 11,
     "metadata": {},
     "output_type": "execute_result"
    }
   ],
   "source": [
    "dataset[\"text\"].str.split().map(lambda x: len(x)).mean()"
   ]
  },
  {
   "cell_type": "code",
   "execution_count": 53,
   "metadata": {},
   "outputs": [],
   "source": [
    "something = dataset[\"text\"][0:8]"
   ]
  },
  {
   "cell_type": "code",
   "execution_count": 62,
   "metadata": {},
   "outputs": [],
   "source": [
    "from textattack.augmentation.recipes import SwapAugmenter, DeletionAugmenter\n",
    "import random    \n",
    "\n",
    "swapper = SwapAugmenter(pct_words_to_swap=0.3, transformations_per_example=1)\n",
    "deleter = DeletionAugmenter(pct_words_to_swap=0.3, transformations_per_example=1)"
   ]
  },
  {
   "cell_type": "code",
   "execution_count": 69,
   "metadata": {},
   "outputs": [],
   "source": [
    "\n",
    "augmented_data = []\n",
    "\n",
    "for x in something:\n",
    "    augmented_text = []\n",
    "    augmented_text += swapper.augment(x)\n",
    "    augmented_text += deleter.augment(x)\n",
    "\n",
    "    random.shuffle(augmented_text)\n",
    "\n",
    "    augmented_data.append(augmented_text[0])    "
   ]
  },
  {
   "cell_type": "code",
   "execution_count": 64,
   "metadata": {},
   "outputs": [
    {
     "data": {
      "text/plain": [
       "'“SPECIAL REPORT: Carlos Dominguez’s Latest Investment Has Experts in Awe And Big Banks Terrified.”\\xa0'"
      ]
     },
     "execution_count": 64,
     "metadata": {},
     "output_type": "execute_result"
    }
   ],
   "source": [
    "something[1]"
   ]
  },
  {
   "cell_type": "code",
   "execution_count": 65,
   "metadata": {},
   "outputs": [
    {
     "data": {
      "text/plain": [
       "['“Kahapon (Yesterday), Power Mac Center: launched Smartwatch GT20 the US a special price in the Philippines, only PHP 1,099/1 ( 2,/2) on occasion of opening the 10th Mall. ang event, nagdulot ng pagpupumilit, maraming ang hindi nakabili at nahimatay sa kakulangan ng oxygen (Because the was, congestion and, many customers were unable to buy even passed out due to of oxygen).”',\n",
       " '“SPECIAL REPORT: Carlos Latest’And Dominguez Investment Has Experts in Awe s Big Banks Terrified.”\\xa0',\n",
       " '“I don’t know why there big issue 125 million pesos of confidential, my office in 19 days., where held office as the Chief Executive for 9, I million a and nobody dared to question me. Not the then President and not even the COA. Now that I am the, I not fund in a timeframe which I think is feasible. What I for as a Vice President,?”',\n",
       " '“PILIPINAS GONE JET BUMANAT NA (PHILIPPINES JET FIGHTER HAS FIGHTER ALL OUT!)”',\n",
       " '“niyo strategy to save money? You go to sleep! libre pa! gumala. mag travel every month. na,” read quote card attributed Ang, who is also SMC chief officer.( know what’s the best to save money? go sleep!’s free! Don’t. Don’ travel every month. Don’ to Starbucks.)\\xa0',\n",
       " '“So what if I my 125 pesos confidential 19 days or 11 days as what the said? I can spend in or in minute if want to. money intended for my office and I can spend it the want it be spent. By its’s FUNDS you no scrutinizing what is confidential.”\\xa0',\n",
       " '“GRABE an! Barko Ng China Coast Guard WASAK NANG TAMAAN Ng Hindi Natutukoy Pa bad SANDATA (This by Na! Chinese Coast Guard ship destroyed is ITO unidentified weapon)!”\\xa0',\n",
       " '“PCG naubos Agresibong pasensya! ang Chinese bombed binomba umano ng water cannon sa Ayungin (PCG lost its patience! water with militia militia Chinese Aggressive cannons in Ayungin).”']"
      ]
     },
     "execution_count": 65,
     "metadata": {},
     "output_type": "execute_result"
    }
   ],
   "source": [
    "augmented_data"
   ]
  },
  {
   "cell_type": "code",
   "execution_count": 56,
   "metadata": {},
   "outputs": [
    {
     "ename": "TypeError",
     "evalue": "Population must be a sequence.  For dicts or sets, use sorted(d).",
     "output_type": "error",
     "traceback": [
      "\u001b[0;31m---------------------------------------------------------------------------\u001b[0m",
      "\u001b[0;31mTypeError\u001b[0m                                 Traceback (most recent call last)",
      "Cell \u001b[0;32mIn[56], line 1\u001b[0m\n\u001b[0;32m----> 1\u001b[0m \u001b[43mrandom\u001b[49m\u001b[38;5;241;43m.\u001b[39;49m\u001b[43msample\u001b[49m\u001b[43m(\u001b[49m\u001b[43msomething\u001b[49m\u001b[43m,\u001b[49m\u001b[43m \u001b[49m\u001b[38;5;28;43mlen\u001b[39;49m\u001b[43m(\u001b[49m\u001b[43msomething\u001b[49m\u001b[43m)\u001b[49m\u001b[43m)\u001b[49m\n",
      "File \u001b[0;32m/opt/homebrew/Caskroom/miniconda/base/lib/python3.11/random.py:439\u001b[0m, in \u001b[0;36mRandom.sample\u001b[0;34m(self, population, k, counts)\u001b[0m\n\u001b[1;32m    415\u001b[0m \u001b[38;5;66;03m# Sampling without replacement entails tracking either potential\u001b[39;00m\n\u001b[1;32m    416\u001b[0m \u001b[38;5;66;03m# selections (the pool) in a list or previous selections in a set.\u001b[39;00m\n\u001b[1;32m    417\u001b[0m \n\u001b[0;32m   (...)\u001b[0m\n\u001b[1;32m    435\u001b[0m \u001b[38;5;66;03m# too many calls to _randbelow(), making them slower and\u001b[39;00m\n\u001b[1;32m    436\u001b[0m \u001b[38;5;66;03m# causing them to eat more entropy than necessary.\u001b[39;00m\n\u001b[1;32m    438\u001b[0m \u001b[38;5;28;01mif\u001b[39;00m \u001b[38;5;129;01mnot\u001b[39;00m \u001b[38;5;28misinstance\u001b[39m(population, _Sequence):\n\u001b[0;32m--> 439\u001b[0m     \u001b[38;5;28;01mraise\u001b[39;00m \u001b[38;5;167;01mTypeError\u001b[39;00m(\u001b[38;5;124m\"\u001b[39m\u001b[38;5;124mPopulation must be a sequence.  \u001b[39m\u001b[38;5;124m\"\u001b[39m\n\u001b[1;32m    440\u001b[0m                     \u001b[38;5;124m\"\u001b[39m\u001b[38;5;124mFor dicts or sets, use sorted(d).\u001b[39m\u001b[38;5;124m\"\u001b[39m)\n\u001b[1;32m    441\u001b[0m n \u001b[38;5;241m=\u001b[39m \u001b[38;5;28mlen\u001b[39m(population)\n\u001b[1;32m    442\u001b[0m \u001b[38;5;28;01mif\u001b[39;00m counts \u001b[38;5;129;01mis\u001b[39;00m \u001b[38;5;129;01mnot\u001b[39;00m \u001b[38;5;28;01mNone\u001b[39;00m:\n",
      "\u001b[0;31mTypeError\u001b[0m: Population must be a sequence.  For dicts or sets, use sorted(d)."
     ]
    }
   ],
   "source": [
    "random.sample(something, len(something))"
   ]
  },
  {
   "cell_type": "code",
   "execution_count": 51,
   "metadata": {},
   "outputs": [
    {
     "data": {
      "text/plain": [
       "['“Kahapon (Yesterday), the Mac Center: Officially launched ng GT20 Ultra imported from Power US at a super special price in the Philippines, only PHP 1,099/1 units (PHP 2,199/2 units) on the occasion of opening causing 10th branch in Greenbelt Mall. Dahil masikip ang event, nagdulot Smartwatch congestion sa pagpupumilit, maraming at ang hindi nakabili customer nahimatay pa dahil at kakulangan ng oxygen (Because the event was overcrowded, the congestion and struggle, many customers were unable to buy and even passed out due to lack of oxygen).”',\n",
       " '“SPECIAL REPORT: Carlos Dominguez’s Latest Investment Has Experts in Terrified And Big Banks Awe.”\\xa0',\n",
       " '“I don’t know Vice there is a big issue on President 125 in for of confidential fund, which my office disbursed million 19 days. In Davao City, where I held office as the Chief Executive pesos 9 years, I spend 20 million a day and nobody dared to question me. Not the then the and not even the COA. Now that I am the Vice-President, you tell me that I can not spend my confidential fund in a is which I think timeframe feasible. What am I for as a why President, if you restrain me?”',\n",
       " '“PILIPINAS FIGHTER JET GONE NA (PHILIPPINES FIGHTER JET HAS BUMANAT ALL OUT!)”',\n",
       " '“Alam niyo best strategy to save libre? You go to sleep! the read! Wag gumala. Wag mag travel every month. Wag na mag starbucks,” pa the concocted quote card attributed to Ang, wander is also SMC chief executive officer.(You know what’s money best strategy to save money? You go to sleep! It’s free! Don’t who. Don’t travel every month. Don’t go to Starbucks.)\\xa0',\n",
       " '“So what if I it my what million pesos business funds in 19 days or 11 days as what the COA said? I can spend spent in an hour or in a minute if I want to. That money CONFIDENTIAL intended for my office and I can spend it the way I want it to be spent. By its nature it’s is FUNDS and you have no confidential scrutinizing 125 is confidential.”\\xa0',\n",
       " '“NANG ITO! Barko Ng China Coast Guard WASAK GRABE TAMAAN Ng Hindi Pa Natutukoy Na SANDATA (This is bad! Chinese Coast Guard ship destroyed by an unidentified weapon)!”\\xa0',\n",
       " '“PCG naubos ang pasensya! Agresibong Chinese militia binomba umano ng water cannon sa Ayungin (PCG lost patience its! Aggressive Chinese militia bombed with water cannons in Ayungin).”']"
      ]
     },
     "execution_count": 51,
     "metadata": {},
     "output_type": "execute_result"
    }
   ],
   "source": [
    "[x[0] for x in swapper.augment_many(something)]"
   ]
  },
  {
   "cell_type": "code",
   "execution_count": null,
   "metadata": {},
   "outputs": [],
   "source": []
  },
  {
   "cell_type": "code",
   "execution_count": null,
   "metadata": {},
   "outputs": [],
   "source": []
  },
  {
   "cell_type": "code",
   "execution_count": null,
   "metadata": {},
   "outputs": [],
   "source": []
  },
  {
   "cell_type": "code",
   "execution_count": null,
   "metadata": {},
   "outputs": [],
   "source": []
  },
  {
   "cell_type": "code",
   "execution_count": null,
   "metadata": {},
   "outputs": [],
   "source": []
  },
  {
   "cell_type": "code",
   "execution_count": 70,
   "metadata": {},
   "outputs": [
    {
     "data": {
      "text/plain": [
       "['sdf', 'sdf']"
      ]
     },
     "execution_count": 70,
     "metadata": {},
     "output_type": "execute_result"
    }
   ],
   "source": [
    "[\"sdf\"] + [\"sdf\"]"
   ]
  },
  {
   "cell_type": "code",
   "execution_count": null,
   "metadata": {},
   "outputs": [],
   "source": []
  }
 ],
 "metadata": {
  "kernelspec": {
   "display_name": "base",
   "language": "python",
   "name": "python3"
  },
  "language_info": {
   "codemirror_mode": {
    "name": "ipython",
    "version": 3
   },
   "file_extension": ".py",
   "mimetype": "text/x-python",
   "name": "python",
   "nbconvert_exporter": "python",
   "pygments_lexer": "ipython3",
   "version": "3.1.0"
  }
 },
 "nbformat": 4,
 "nbformat_minor": 2
}
