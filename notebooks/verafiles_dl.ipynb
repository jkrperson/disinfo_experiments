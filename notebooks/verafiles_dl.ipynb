{
 "cells": [
  {
   "cell_type": "code",
   "execution_count": 30,
   "metadata": {},
   "outputs": [],
   "source": [
    "import torch\n",
    "import pandas as pd"
   ]
  },
  {
   "cell_type": "code",
   "execution_count": 98,
   "metadata": {},
   "outputs": [],
   "source": [
    "class VerafilesDataset(torch.utils.data.Dataset):\n",
    "    def __init__(self, root, transform=None):\n",
    "        super().__init__()\n",
    "        \n",
    "        self.root = root\n",
    "        self.transform = transform\n",
    "        self.df = pd.read_csv(root)\n",
    "\n",
    "        self.idx2label = {k:v for k,v in enumerate(self.df[\"label\"].unique())}\n",
    "        self.label2idx = {v:k for k,v in self.idx2label.items()}\n",
    "\n",
    "    def __len__(self):\n",
    "        return len(self.df)\n",
    "    \n",
    "    def __getitem__(self, idx):\n",
    "        row = self.df.iloc[idx]\n",
    "\n",
    "        text = row[\"text\"]\n",
    "        label = self.label2idx[row[\"label\"]]\n",
    "        return {\n",
    "            \"text\": text,\n",
    "            \"label\": label\n",
    "        }"
   ]
  },
  {
   "cell_type": "code",
   "execution_count": 92,
   "metadata": {},
   "outputs": [],
   "source": [
    "class XFactDataset(torch.utils.data.Dataset):\n",
    "    def __init__(self, root, examples=20, transform=None):\n",
    "        super().__init__()\n",
    "        \n",
    "        self.root = root\n",
    "        self.transform = transform\n",
    "        self.df = pd.read_csv(root, sep=\"\\t\")\n",
    "\n",
    "        self.idx2label = {k:v for k,v in enumerate(self.df[\"label\"].unique())}\n",
    "        self.label2idx = {v:k for k,v in self.idx2label.items()}\n",
    "\n",
    "        self.df = pd.concat([self.df[self.df[\"label\"] == key].head(examples) for key in self.label2idx.keys()], ignore_index=True)\n",
    "\n",
    "    def __len__(self):\n",
    "        return len(self.df)\n",
    "    \n",
    "    def __getitem__(self, idx):\n",
    "        row = self.df.iloc[idx]\n",
    "\n",
    "        text = row[\"claim\"]\n",
    "        label = self.label2idx[row[\"label\"]]\n",
    "        return {\n",
    "            \"text\": text,\n",
    "            \"label\": label\n",
    "        }"
   ]
  },
  {
   "cell_type": "code",
   "execution_count": 33,
   "metadata": {},
   "outputs": [],
   "source": [
    "from transformers import AutoTokenizer\n",
    "\n",
    "tokenizer = AutoTokenizer.from_pretrained(\"xlm-roberta-base\")"
   ]
  },
  {
   "cell_type": "code",
   "execution_count": 34,
   "metadata": {},
   "outputs": [],
   "source": [
    "def collate_fn(batch):\n",
    "\n",
    "    tokenized = tokenizer([x[\"text\"] for x in batch])\n",
    "\n",
    "    return {\n",
    "        \"input_ids\": tokenized[\"input_ids\"],\n",
    "        \"attention_mask\": tokenized[\"attention_mask\"],\n",
    "        \"labels\": torch.tensor([x[\"label\"] for x in batch]),\n",
    "    }"
   ]
  },
  {
   "cell_type": "code",
   "execution_count": 99,
   "metadata": {},
   "outputs": [],
   "source": [
    "vf_ds = VerafilesDataset(\"vefafiles.csv\", transform=None)\n",
    "vf_dl = torch.utils.data.DataLoader(vf_ds, collate_fn=collate_fn, batch_size=8)"
   ]
  },
  {
   "cell_type": "code",
   "execution_count": 100,
   "metadata": {},
   "outputs": [],
   "source": [
    "xf_ds = XFactDataset(\"xlm_fakenews/english_test.tsv\")\n",
    "xf_dl = torch.utils.data.DataLoader(xf_ds, collate_fn=collate_fn, batch_size=8)"
   ]
  },
  {
   "cell_type": "code",
   "execution_count": null,
   "metadata": {},
   "outputs": [],
   "source": []
  }
 ],
 "metadata": {
  "kernelspec": {
   "display_name": "base",
   "language": "python",
   "name": "python3"
  },
  "language_info": {
   "codemirror_mode": {
    "name": "ipython",
    "version": 3
   },
   "file_extension": ".py",
   "mimetype": "text/x-python",
   "name": "python",
   "nbconvert_exporter": "python",
   "pygments_lexer": "ipython3",
   "version": "3.11.7"
  }
 },
 "nbformat": 4,
 "nbformat_minor": 2
}
