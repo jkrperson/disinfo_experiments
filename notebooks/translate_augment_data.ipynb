{
 "cells": [
  {
   "cell_type": "markdown",
   "metadata": {},
   "source": [
    "Translate to the following languages:\n",
    "- en\n",
    "- tl\n",
    "- vi\n",
    "- th\n",
    "- zh\n",
    "\n",
    "for zero-shot languages:\n",
    "- bn\n",
    "- fa\n",
    "- gu\n",
    "- mr\n",
    "- pa\n",
    "- no\n",
    "- si\n",
    "- sq\n",
    "- ru\n",
    "- az\n",
    "- pt\n",
    "- nl\n",
    "- fr"
   ]
  },
  {
   "cell_type": "code",
   "execution_count": 1,
   "metadata": {},
   "outputs": [],
   "source": [
    "target_langs = [\"en\", \"tl\", \"vi\", \"th\", \"zh\"]"
   ]
  },
  {
   "cell_type": "code",
   "execution_count": 2,
   "metadata": {},
   "outputs": [],
   "source": [
    "from google.cloud import translate\n",
    "\n",
    "# Initialize Translation client\n",
    "def translate_text(\n",
    "    text: list[str] = [\"YOUR_TEXT_TO_TRANSLATE\"], project_id: str = \"YOUR_PROJECT_ID\", target_language_code: str = \"tl\"\n",
    ") -> translate.TranslationServiceClient:\n",
    "    \"\"\"Translating Text.\"\"\"\n",
    "\n",
    "    client = translate.TranslationServiceClient()\n",
    "\n",
    "    location = \"global\"\n",
    "\n",
    "    parent = f\"projects/{project_id}/locations/{location}\"\n",
    "\n",
    "    # Translate text from English to French\n",
    "    # Detail on supported types can be found here:\n",
    "    # https://cloud.google.com/translate/docs/supported-formats\n",
    "    response = client.translate_text(\n",
    "        request={\n",
    "            \"parent\": parent,\n",
    "            \"contents\": text,\n",
    "            \"mime_type\": \"text/plain\",  # mime types: text/plain, text/html\n",
    "            \"target_language_code\": target_language_code,\n",
    "        }\n",
    "    )\n",
    "\n",
    "    return response"
   ]
  },
  {
   "cell_type": "code",
   "execution_count": 6,
   "metadata": {},
   "outputs": [],
   "source": [
    "import pandas as pd\n",
    "\n",
    "train_df = pd.read_csv(\"xlm_fakenews/train_augmented.tsv\", sep=\"\\t\")\n"
   ]
  },
  {
   "cell_type": "code",
   "execution_count": 9,
   "metadata": {},
   "outputs": [],
   "source": [
    "train_df.drop(columns=[\"augmented_en\"], inplace=True)"
   ]
  },
  {
   "cell_type": "code",
   "execution_count": 5,
   "metadata": {},
   "outputs": [],
   "source": [
    "train_df = train_df[[1, 2]]"
   ]
  },
  {
   "cell_type": "code",
   "execution_count": 7,
   "metadata": {},
   "outputs": [],
   "source": [
    "train_df.columns = [\"label\", \"text\"]"
   ]
  },
  {
   "cell_type": "code",
   "execution_count": 9,
   "metadata": {},
   "outputs": [],
   "source": [
    "train_list = train_df[\"text\"].to_list()"
   ]
  },
  {
   "cell_type": "code",
   "execution_count": 10,
   "metadata": {},
   "outputs": [],
   "source": [
    "from torch.utils.data import DataLoader"
   ]
  },
  {
   "cell_type": "code",
   "execution_count": 11,
   "metadata": {},
   "outputs": [],
   "source": [
    "batcher = DataLoader(train_list, batch_size=32, shuffle=False)"
   ]
  },
  {
   "cell_type": "code",
   "execution_count": 12,
   "metadata": {},
   "outputs": [
    {
     "name": "stderr",
     "output_type": "stream",
     "text": [
      "100%|██████████| 320/320 [04:19<00:00,  1.24it/s]\n",
      "/var/folders/qp/m74hqv_10t3ckj5rm579lm3m0000gp/T/ipykernel_8172/2412749338.py:10: SettingWithCopyWarning: \n",
      "A value is trying to be set on a copy of a slice from a DataFrame.\n",
      "Try using .loc[row_indexer,col_indexer] = value instead\n",
      "\n",
      "See the caveats in the documentation: https://pandas.pydata.org/pandas-docs/stable/user_guide/indexing.html#returning-a-view-versus-a-copy\n",
      "  train_df['augmented_'+lang] = augmented_texts\n",
      "100%|██████████| 320/320 [04:12<00:00,  1.27it/s]\n",
      "/var/folders/qp/m74hqv_10t3ckj5rm579lm3m0000gp/T/ipykernel_8172/2412749338.py:10: SettingWithCopyWarning: \n",
      "A value is trying to be set on a copy of a slice from a DataFrame.\n",
      "Try using .loc[row_indexer,col_indexer] = value instead\n",
      "\n",
      "See the caveats in the documentation: https://pandas.pydata.org/pandas-docs/stable/user_guide/indexing.html#returning-a-view-versus-a-copy\n",
      "  train_df['augmented_'+lang] = augmented_texts\n",
      "100%|██████████| 320/320 [04:13<00:00,  1.26it/s]\n",
      "/var/folders/qp/m74hqv_10t3ckj5rm579lm3m0000gp/T/ipykernel_8172/2412749338.py:10: SettingWithCopyWarning: \n",
      "A value is trying to be set on a copy of a slice from a DataFrame.\n",
      "Try using .loc[row_indexer,col_indexer] = value instead\n",
      "\n",
      "See the caveats in the documentation: https://pandas.pydata.org/pandas-docs/stable/user_guide/indexing.html#returning-a-view-versus-a-copy\n",
      "  train_df['augmented_'+lang] = augmented_texts\n",
      "100%|██████████| 320/320 [08:05<00:00,  1.52s/it]  \n",
      "/var/folders/qp/m74hqv_10t3ckj5rm579lm3m0000gp/T/ipykernel_8172/2412749338.py:10: SettingWithCopyWarning: \n",
      "A value is trying to be set on a copy of a slice from a DataFrame.\n",
      "Try using .loc[row_indexer,col_indexer] = value instead\n",
      "\n",
      "See the caveats in the documentation: https://pandas.pydata.org/pandas-docs/stable/user_guide/indexing.html#returning-a-view-versus-a-copy\n",
      "  train_df['augmented_'+lang] = augmented_texts\n",
      "100%|██████████| 320/320 [04:12<00:00,  1.27it/s]\n",
      "/var/folders/qp/m74hqv_10t3ckj5rm579lm3m0000gp/T/ipykernel_8172/2412749338.py:10: SettingWithCopyWarning: \n",
      "A value is trying to be set on a copy of a slice from a DataFrame.\n",
      "Try using .loc[row_indexer,col_indexer] = value instead\n",
      "\n",
      "See the caveats in the documentation: https://pandas.pydata.org/pandas-docs/stable/user_guide/indexing.html#returning-a-view-versus-a-copy\n",
      "  train_df['augmented_'+lang] = augmented_texts\n"
     ]
    }
   ],
   "source": [
    "from tqdm import tqdm\n",
    "\n",
    "for lang in target_langs:\n",
    "    augmented_texts = []\n",
    "    for batch in tqdm(batcher):\n",
    "        translated_text = translate_text(batch, \"trusty-moment-407614\", lang)\n",
    "        texts = [translation.translated_text for translation in translated_text.translations]\n",
    "        augmented_texts.extend(texts)\n",
    "\n",
    "    train_df['augmented_'+lang] = augmented_texts"
   ]
  },
  {
   "cell_type": "code",
   "execution_count": 10,
   "metadata": {},
   "outputs": [],
   "source": [
    "train_df.to_csv(\"xlm_fakenews/train_augmented.tsv\", sep=\"\\t\", index=False)"
   ]
  },
  {
   "cell_type": "code",
   "execution_count": 11,
   "metadata": {},
   "outputs": [
    {
     "data": {
      "text/html": [
       "<div>\n",
       "<style scoped>\n",
       "    .dataframe tbody tr th:only-of-type {\n",
       "        vertical-align: middle;\n",
       "    }\n",
       "\n",
       "    .dataframe tbody tr th {\n",
       "        vertical-align: top;\n",
       "    }\n",
       "\n",
       "    .dataframe thead th {\n",
       "        text-align: right;\n",
       "    }\n",
       "</style>\n",
       "<table border=\"1\" class=\"dataframe\">\n",
       "  <thead>\n",
       "    <tr style=\"text-align: right;\">\n",
       "      <th></th>\n",
       "      <th>label</th>\n",
       "      <th>text</th>\n",
       "      <th>augmented_tl</th>\n",
       "      <th>augmented_vi</th>\n",
       "      <th>augmented_th</th>\n",
       "      <th>augmented_zh</th>\n",
       "    </tr>\n",
       "  </thead>\n",
       "  <tbody>\n",
       "    <tr>\n",
       "      <th>0</th>\n",
       "      <td>false</td>\n",
       "      <td>Says the Annies List political group supports ...</td>\n",
       "      <td>Sabi ng grupong pampulitika ng Annies List ay ...</td>\n",
       "      <td>Nói rằng nhóm chính trị Annies List ủng hộ việ...</td>\n",
       "      <td>กลุ่มการเมือง Annies List สนับสนุนการทำแท้งในไ...</td>\n",
       "      <td>安妮名单政治团体表示支持妊娠晚期按需堕胎。</td>\n",
       "    </tr>\n",
       "    <tr>\n",
       "      <th>1</th>\n",
       "      <td>half-true</td>\n",
       "      <td>When did the decline of coal start? It started...</td>\n",
       "      <td>Kailan nagsimula ang pagbaba ng karbon? Nagsim...</td>\n",
       "      <td>Sự suy giảm của than bắt đầu từ khi nào? Nó bắ...</td>\n",
       "      <td>การลดลงของถ่านหินเริ่มต้นเมื่อใด? มันเริ่มต้นข...</td>\n",
       "      <td>煤炭的衰落是从什么时候开始的？它始于天然气腾飞，始于（总统乔治·W·布什）政府。</td>\n",
       "    </tr>\n",
       "    <tr>\n",
       "      <th>2</th>\n",
       "      <td>mostly-true</td>\n",
       "      <td>Hillary Clinton agrees with John McCain \"by vo...</td>\n",
       "      <td>Sumasang-ayon si Hillary Clinton kay John McCa...</td>\n",
       "      <td>Hillary Clinton đồng ý với John McCain \"bằng c...</td>\n",
       "      <td>ฮิลลารี คลินตันเห็นด้วยกับจอห์น แมคเคน \"ด้วยกา...</td>\n",
       "      <td>希拉里·克林顿同意约翰·麦凯恩的观点，“投票支持乔治·布什在伊朗问题上无罪推定”。</td>\n",
       "    </tr>\n",
       "    <tr>\n",
       "      <th>3</th>\n",
       "      <td>false</td>\n",
       "      <td>Health care reform legislation is likely to ma...</td>\n",
       "      <td>Ang batas sa reporma sa pangangalagang pangkal...</td>\n",
       "      <td>Luật cải cách chăm sóc sức khỏe có thể sẽ yêu ...</td>\n",
       "      <td>กฎหมายปฏิรูปการดูแลสุขภาพมีแนวโน้มที่จะกำหนดให...</td>\n",
       "      <td>医疗保健改革立法可能会强制要求免费进行变性手术。</td>\n",
       "    </tr>\n",
       "    <tr>\n",
       "      <th>4</th>\n",
       "      <td>half-true</td>\n",
       "      <td>The economic turnaround started at the end of ...</td>\n",
       "      <td>Nagsimula ang economic turnaround sa pagtatapo...</td>\n",
       "      <td>Sự thay đổi kinh tế bắt đầu vào cuối nhiệm kỳ ...</td>\n",
       "      <td>การพลิกฟื้นทางเศรษฐกิจเริ่มต้นเมื่อสิ้นสุดภาคเ...</td>\n",
       "      <td>经济好转是在我任期结束时开始的。</td>\n",
       "    </tr>\n",
       "  </tbody>\n",
       "</table>\n",
       "</div>"
      ],
      "text/plain": [
       "         label                                               text  \\\n",
       "0        false  Says the Annies List political group supports ...   \n",
       "1    half-true  When did the decline of coal start? It started...   \n",
       "2  mostly-true  Hillary Clinton agrees with John McCain \"by vo...   \n",
       "3        false  Health care reform legislation is likely to ma...   \n",
       "4    half-true  The economic turnaround started at the end of ...   \n",
       "\n",
       "                                        augmented_tl  \\\n",
       "0  Sabi ng grupong pampulitika ng Annies List ay ...   \n",
       "1  Kailan nagsimula ang pagbaba ng karbon? Nagsim...   \n",
       "2  Sumasang-ayon si Hillary Clinton kay John McCa...   \n",
       "3  Ang batas sa reporma sa pangangalagang pangkal...   \n",
       "4  Nagsimula ang economic turnaround sa pagtatapo...   \n",
       "\n",
       "                                        augmented_vi  \\\n",
       "0  Nói rằng nhóm chính trị Annies List ủng hộ việ...   \n",
       "1  Sự suy giảm của than bắt đầu từ khi nào? Nó bắ...   \n",
       "2  Hillary Clinton đồng ý với John McCain \"bằng c...   \n",
       "3  Luật cải cách chăm sóc sức khỏe có thể sẽ yêu ...   \n",
       "4  Sự thay đổi kinh tế bắt đầu vào cuối nhiệm kỳ ...   \n",
       "\n",
       "                                        augmented_th  \\\n",
       "0  กลุ่มการเมือง Annies List สนับสนุนการทำแท้งในไ...   \n",
       "1  การลดลงของถ่านหินเริ่มต้นเมื่อใด? มันเริ่มต้นข...   \n",
       "2  ฮิลลารี คลินตันเห็นด้วยกับจอห์น แมคเคน \"ด้วยกา...   \n",
       "3  กฎหมายปฏิรูปการดูแลสุขภาพมีแนวโน้มที่จะกำหนดให...   \n",
       "4  การพลิกฟื้นทางเศรษฐกิจเริ่มต้นเมื่อสิ้นสุดภาคเ...   \n",
       "\n",
       "                                augmented_zh  \n",
       "0                      安妮名单政治团体表示支持妊娠晚期按需堕胎。  \n",
       "1   煤炭的衰落是从什么时候开始的？它始于天然气腾飞，始于（总统乔治·W·布什）政府。  \n",
       "2  希拉里·克林顿同意约翰·麦凯恩的观点，“投票支持乔治·布什在伊朗问题上无罪推定”。  \n",
       "3                   医疗保健改革立法可能会强制要求免费进行变性手术。  \n",
       "4                           经济好转是在我任期结束时开始的。  "
      ]
     },
     "execution_count": 11,
     "metadata": {},
     "output_type": "execute_result"
    }
   ],
   "source": [
    "train_df.head()"
   ]
  },
  {
   "cell_type": "code",
   "execution_count": null,
   "metadata": {},
   "outputs": [],
   "source": []
  }
 ],
 "metadata": {
  "kernelspec": {
   "display_name": "base",
   "language": "python",
   "name": "python3"
  },
  "language_info": {
   "codemirror_mode": {
    "name": "ipython",
    "version": 3
   },
   "file_extension": ".py",
   "mimetype": "text/x-python",
   "name": "python",
   "nbconvert_exporter": "python",
   "pygments_lexer": "ipython3",
   "version": "3.11.7"
  }
 },
 "nbformat": 4,
 "nbformat_minor": 2
}
