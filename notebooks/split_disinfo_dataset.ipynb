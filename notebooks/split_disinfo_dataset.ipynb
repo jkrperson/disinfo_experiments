{
 "cells": [
  {
   "cell_type": "code",
   "execution_count": 1,
   "metadata": {},
   "outputs": [],
   "source": [
    "import pandas as pd\n",
    "from sklearn.model_selection import train_test_split"
   ]
  },
  {
   "cell_type": "code",
   "execution_count": 2,
   "metadata": {},
   "outputs": [],
   "source": [
    "fake_ds = pd.read_csv('datasets/disinfo/fake.csv')\n",
    "false_ds = pd.read_csv('datasets/disinfo/false.csv')\n",
    "true_ds = pd.read_csv('datasets/disinfo/true.csv')\n",
    "misleading_ds = pd.read_csv('datasets/disinfo/misleading.csv')"
   ]
  },
  {
   "cell_type": "code",
   "execution_count": 3,
   "metadata": {},
   "outputs": [
    {
     "data": {
      "text/plain": [
       "(278, 475, 250, 235)"
      ]
     },
     "execution_count": 3,
     "metadata": {},
     "output_type": "execute_result"
    }
   ],
   "source": [
    "len(fake_ds), len(false_ds), len(true_ds), len(misleading_ds)"
   ]
  },
  {
   "cell_type": "code",
   "execution_count": 4,
   "metadata": {},
   "outputs": [],
   "source": [
    "# Unbalanced\n",
    "\n",
    "train_fake_ds, test_fake_ds = train_test_split(fake_ds, test_size=0.3, random_state=42, shuffle=True)\n",
    "train_false_ds, test_false_ds = train_test_split(false_ds, test_size=0.3, random_state=42, shuffle=True)\n",
    "train_true_ds, test_true_ds = train_test_split(true_ds, test_size=0.3, random_state=42, shuffle=True)\n",
    "train_misleading_ds, test_misleading_ds = train_test_split(misleading_ds, test_size=0.3, random_state=42, shuffle=True)\n",
    "\n",
    "\n",
    "train_fake_ds, val_fake_ds = train_test_split(train_fake_ds, test_size=(2/7), random_state=42, shuffle=True)\n",
    "train_false_ds, val_false_ds = train_test_split(train_false_ds, test_size=(2/7), random_state=42, shuffle=True)\n",
    "train_true_ds, val_true_ds = train_test_split(train_true_ds, test_size=(2/7), random_state=42, shuffle=True)\n",
    "train_misleading_ds, val_misleading_ds = train_test_split(train_misleading_ds, test_size=(2/7), random_state=42, shuffle=True)"
   ]
  },
  {
   "cell_type": "code",
   "execution_count": 5,
   "metadata": {},
   "outputs": [],
   "source": [
    "train_ds = pd.concat([train_fake_ds, train_false_ds, train_true_ds, train_misleading_ds])\n",
    "val_ds = pd.concat([val_fake_ds, val_false_ds, val_true_ds, val_misleading_ds])\n",
    "test_ds = pd.concat([test_fake_ds, test_false_ds, test_true_ds, test_misleading_ds])"
   ]
  },
  {
   "cell_type": "code",
   "execution_count": 6,
   "metadata": {},
   "outputs": [],
   "source": [
    "train_ds.to_csv('datasets/disinfo_unbalanced/train.csv', index=False)\n",
    "val_ds.to_csv('datasets/disinfo_unbalanced/val.csv', index=False)\n",
    "test_ds.to_csv('datasets/disinfo_unbalanced/test.csv', index=False)"
   ]
  },
  {
   "cell_type": "code",
   "execution_count": 7,
   "metadata": {},
   "outputs": [],
   "source": [
    "min_len = min(len(fake_ds), len(false_ds), len(true_ds), len(misleading_ds))"
   ]
  },
  {
   "cell_type": "code",
   "execution_count": 8,
   "metadata": {},
   "outputs": [],
   "source": [
    "sample_fake_ds = fake_ds.sample(n=min_len, random_state=42)\n",
    "sample_false_ds = false_ds.sample(n=min_len, random_state=42)\n",
    "sample_true_ds = true_ds.sample(n=min_len, random_state=42)\n",
    "sample_misleading_ds = misleading_ds.sample(n=min_len, random_state=42)\n"
   ]
  },
  {
   "cell_type": "code",
   "execution_count": 9,
   "metadata": {},
   "outputs": [],
   "source": [
    "train_sample_fake_ds, test_sample_fake_ds = train_test_split(sample_fake_ds, test_size=0.3, random_state=42, shuffle=True)\n",
    "train_sample_false_ds, test_sample_false_ds = train_test_split(sample_false_ds, test_size=0.3, random_state=42, shuffle=True)\n",
    "train_sample_true_ds, test_sample_true_ds = train_test_split(sample_true_ds, test_size=0.3, random_state=42, shuffle=True)\n",
    "train_sample_misleading_ds, test_sample_misleading_ds = train_test_split(sample_misleading_ds, test_size=0.3, random_state=42, shuffle=True)\n",
    "\n",
    "train_sample_fake_ds, val_sample_fake_ds = train_test_split(train_sample_fake_ds, test_size=(2/7), random_state=42, shuffle=True)\n",
    "train_sample_false_ds, val_sample_false_ds = train_test_split(train_sample_false_ds, test_size=(2/7), random_state=42, shuffle=True)\n",
    "train_sample_true_ds, val_sample_true_ds = train_test_split(train_sample_true_ds, test_size=(2/7), random_state=42, shuffle=True)\n",
    "train_sample_misleading_ds, val_sample_misleading_ds = train_test_split(train_sample_misleading_ds, test_size=(2/7), random_state=42, shuffle=True)"
   ]
  },
  {
   "cell_type": "code",
   "execution_count": 10,
   "metadata": {},
   "outputs": [],
   "source": [
    "train_sample_ds = pd.concat([train_sample_fake_ds, train_sample_false_ds, train_sample_true_ds, train_sample_misleading_ds])\n",
    "val_sample_ds = pd.concat([val_sample_fake_ds, val_sample_false_ds, val_sample_true_ds, val_sample_misleading_ds])\n",
    "test_sample_ds = pd.concat([test_sample_fake_ds, test_sample_false_ds, test_sample_true_ds, test_sample_misleading_ds])"
   ]
  },
  {
   "cell_type": "code",
   "execution_count": 11,
   "metadata": {},
   "outputs": [],
   "source": [
    "train_sample_ds.to_csv('datasets/disinfo_balanced/train.csv', index=False)\n",
    "val_sample_ds.to_csv('datasets/disinfo_balanced/val.csv', index=False)\n",
    "test_sample_ds.to_csv('datasets/disinfo_balanced/test.csv', index=False)"
   ]
  },
  {
   "cell_type": "code",
   "execution_count": null,
   "metadata": {},
   "outputs": [],
   "source": []
  }
 ],
 "metadata": {
  "kernelspec": {
   "display_name": "base",
   "language": "python",
   "name": "python3"
  },
  "language_info": {
   "codemirror_mode": {
    "name": "ipython",
    "version": 3
   },
   "file_extension": ".py",
   "mimetype": "text/x-python",
   "name": "python",
   "nbconvert_exporter": "python",
   "pygments_lexer": "ipython3",
   "version": "3.11.7"
  }
 },
 "nbformat": 4,
 "nbformat_minor": 2
}
